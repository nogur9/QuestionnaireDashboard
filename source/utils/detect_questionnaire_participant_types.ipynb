{
 "cells": [
  {
   "cell_type": "code",
   "execution_count": 1,
   "id": "4a99f5cf-9c69-47cc-a17e-240b1c08688a",
   "metadata": {},
   "outputs": [],
   "source": [
    "import pandas as pd"
   ]
  },
  {
   "cell_type": "code",
   "execution_count": 2,
   "id": "d68cb138-c0b8-47a5-8a5c-fbafe8468b87",
   "metadata": {},
   "outputs": [],
   "source": [
    "questions_info = pd.read_csv(\"questions_info.csv\")\n"
   ]
  },
  {
   "cell_type": "code",
   "execution_count": 4,
   "id": "09d4caa0-18d1-486b-b188-a26d30578bd5",
   "metadata": {},
   "outputs": [],
   "source": [
    "def detect_type(questionnaire_name):\n",
    "    if questionnaire_name.lower().endswith('_f'):\n",
    "        return \"Father\"\n",
    "    elif questionnaire_name.lower().endswith('_father'):\n",
    "        return \"Father\"\n",
    "    elif questionnaire_name.lower().endswith('_m'):\n",
    "        return \"Mother\"\n",
    "    elif questionnaire_name.lower().endswith('_mother'):\n",
    "        return \"Mother\"\n",
    "    elif questionnaire_name.lower().endswith('_clin'):\n",
    "        return \"Clinician\"\n",
    "    elif questionnaire_name.lower().endswith('_stu'):\n",
    "        return \"Student\"\n",
    "    else:\n",
    "        return \"Child\""
   ]
  },
  {
   "cell_type": "code",
   "execution_count": 5,
   "id": "51daacdf-5daf-40d4-8dbd-6fb307ed61c8",
   "metadata": {},
   "outputs": [],
   "source": [
    "participant_types = []\n",
    "participant_types_map = {}\n",
    "\n",
    "\n",
    "for questionnaire in all_questionnaires:\n",
    "    participant_type = {'questionnaire': questionnaire, 'participant_type': detect_type(questionnaire)}\n",
    "    participant_types_map[questionnaire] = detect_type(questionnaire)\n",
    "\n",
    "    participant_types.append(participant_type)\n"
   ]
  },
  {
   "cell_type": "code",
   "execution_count": 6,
   "id": "8954794d-3b8e-44ca-b417-90723ba516ef",
   "metadata": {},
   "outputs": [],
   "source": [
    "questionnaire_types_df = pd.DataFrame(participant_types)\n",
    "questionnaire_types_df.to_csv(\"questionnaire_participant_types.csv\", index=False)\n"
   ]
  },
  {
   "cell_type": "code",
   "execution_count": 7,
   "id": "ce6788bf-6bbd-435b-b5e6-c05661fbbcdf",
   "metadata": {},
   "outputs": [],
   "source": [
    "questions_info['participant_types'] = questions_info['questionnaire'].map(participant_types_map)"
   ]
  },
  {
   "cell_type": "code",
   "execution_count": 8,
   "id": "9907a50a-c603-4085-9980-b48f4aa79f13",
   "metadata": {},
   "outputs": [],
   "source": [
    "questions_info.to_csv(\"questions_info_2.csv\")\n"
   ]
  },
  {
   "cell_type": "code",
   "execution_count": 13,
   "id": "935b3835-2d1c-40b0-8104-40cd400fc8a5",
   "metadata": {
    "collapsed": true,
    "jupyter": {
     "outputs_hidden": true
    }
   },
   "outputs": [
    {
     "name": "stdout",
     "output_type": "stream",
     "text": [
      "Father\n",
      "Child\n",
      "Child\n",
      "Mother\n",
      "Child\n",
      "Clinician\n",
      "Clinician\n",
      "Child\n",
      "Clinician\n",
      "Child\n",
      "Child\n",
      "Student\n",
      "Child\n",
      "Father\n",
      "Mother\n",
      "Student\n",
      "Father\n",
      "Mother\n",
      "Clinician\n",
      "Child\n",
      "Child\n",
      "Father\n",
      "Father\n",
      "Child\n",
      "Mother\n",
      "Child\n",
      "Child\n",
      "Student\n",
      "Child\n",
      "Mother\n",
      "Child\n",
      "Child\n",
      "Mother\n",
      "Father\n",
      "Clinician\n",
      "Father\n",
      "Child\n",
      "Child\n",
      "Child\n",
      "Child\n",
      "Clinician\n",
      "Mother\n",
      "Clinician\n",
      "Child\n",
      "Child\n",
      "Child\n",
      "Father\n",
      "Child\n",
      "Mother\n",
      "Student\n",
      "Student\n",
      "Child\n",
      "Mother\n",
      "Clinician\n",
      "Mother\n",
      "Clinician\n",
      "Father\n",
      "Mother\n",
      "Student\n",
      "Mother\n",
      "Clinician\n",
      "Child\n",
      "Child\n",
      "Father\n",
      "Father\n",
      "Father\n",
      "Clinician\n",
      "Clinician\n",
      "Child\n",
      "Child\n",
      "Father\n",
      "Mother\n",
      "Child\n",
      "Student\n",
      "Father\n",
      "Child\n",
      "Child\n",
      "Child\n",
      "Child\n",
      "Child\n",
      "Mother\n",
      "Child\n"
     ]
    }
   ],
   "source": [
    "for i, j in questionnaire_types_df.iterrows():\n",
    "    print(j['participant_type'])"
   ]
  },
  {
   "cell_type": "code",
   "execution_count": null,
   "id": "fca524c0-ed8b-4059-9b3d-12a4ef609354",
   "metadata": {},
   "outputs": [],
   "source": []
  }
 ],
 "metadata": {
  "kernelspec": {
   "display_name": "schneider",
   "language": "python",
   "name": "schneider"
  },
  "language_info": {
   "codemirror_mode": {
    "name": "ipython",
    "version": 3
   },
   "file_extension": ".py",
   "mimetype": "text/x-python",
   "name": "python",
   "nbconvert_exporter": "python",
   "pygments_lexer": "ipython3",
   "version": "3.12.7"
  }
 },
 "nbformat": 4,
 "nbformat_minor": 5
}
