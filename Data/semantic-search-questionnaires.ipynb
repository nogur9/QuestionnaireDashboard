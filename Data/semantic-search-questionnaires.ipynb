{
 "cells": [
  {
   "cell_type": "code",
   "execution_count": 1,
   "id": "12cfd8cc-87df-4fe8-b98e-eed623dc0d3b",
   "metadata": {},
   "outputs": [
    {
     "name": "stderr",
     "output_type": "stream",
     "text": [
      "C:\\Users\\USER\\anaconda3\\envs\\questionnaire-dashboard\\lib\\site-packages\\tqdm\\auto.py:21: TqdmWarning: IProgress not found. Please update jupyter and ipywidgets. See https://ipywidgets.readthedocs.io/en/stable/user_install.html\n",
      "  from .autonotebook import tqdm as notebook_tqdm\n"
     ]
    }
   ],
   "source": [
    "import pandas as pd\n",
    "from sentence_transformers import SentenceTransformer\n",
    "from sklearn.metrics.pairwise import cosine_similarity\n"
   ]
  },
  {
   "cell_type": "code",
   "execution_count": 2,
   "id": "ade2206e-e5ae-4641-8318-7d2533a0087c",
   "metadata": {},
   "outputs": [],
   "source": [
    "\n",
    "# Load data\n",
    "df = pd.read_excel(\"Depression_Clinic_SCMCI_study_measures_2024.xlsx\")\n",
    "desc_col = 'Brief Description (full Method for paper description in \"paragraph details\")'\n",
    "name_col = 'Abbreviated Name'\n",
    "df = df.dropna(subset=desc_col)"
   ]
  },
  {
   "cell_type": "code",
   "execution_count": 3,
   "id": "0f92ec83-e617-4a25-9155-4ce881f0cb17",
   "metadata": {},
   "outputs": [
    {
     "name": "stderr",
     "output_type": "stream",
     "text": [
      "C:\\Users\\USER\\anaconda3\\envs\\questionnaire-dashboard\\lib\\site-packages\\torch\\nn\\modules\\module.py:1762: FutureWarning: `encoder_attention_mask` is deprecated and will be removed in version 4.55.0 for `BertSdpaSelfAttention.forward`.\n",
      "  return forward_call(*args, **kwargs)\n"
     ]
    }
   ],
   "source": [
    "\n",
    "# Step 1: Embed all descriptions\n",
    "model = SentenceTransformer('all-MiniLM-L6-v2')  # Fast & good for short texts\n",
    "desc_embeddings = model.encode(df[desc_col].tolist(), convert_to_tensor=True)\n"
   ]
  },
  {
   "cell_type": "code",
   "execution_count": 4,
   "id": "bb899959-206b-412f-8ace-dc270a62f4fb",
   "metadata": {},
   "outputs": [],
   "source": [
    "\n",
    "# Step 2: Define search function\n",
    "def search_questionnaires(query, top_k=3):\n",
    "    query_embedding = model.encode(query, convert_to_tensor=True)\n",
    "    similarities = cosine_similarity([query_embedding], desc_embeddings)[0]\n",
    "    top_indices = similarities.argsort()[-top_k:][::-1]\n",
    "    return similarities, df.iloc[top_indices][['Abbreviated Name', desc_col]]\n"
   ]
  },
  {
   "cell_type": "code",
   "execution_count": 5,
   "id": "b3741740-b5ab-4cd1-ba0f-7f579b529f97",
   "metadata": {},
   "outputs": [
    {
     "name": "stdout",
     "output_type": "stream",
     "text": [
      "               Abbreviated Name  \\\n",
      "13                         MAST   \n",
      "20  Estimation and Satisfaction   \n",
      "5                     MFQ-Short   \n",
      "\n",
      "   Brief Description (full Method for paper description in \"paragraph details\")  \n",
      "13  30-item scale that reflects 4 types of attitud...                            \n",
      "20  Questionnaire designed to assess the degree of...                            \n",
      "5   Self-report measure designed to assess depress...                            \n"
     ]
    }
   ],
   "source": [
    "\n",
    "# Example usage\n",
    "similarities, results = search_questionnaires(\"happiness\")\n",
    "print(results)\n"
   ]
  },
  {
   "cell_type": "code",
   "execution_count": null,
   "id": "a93272e6-9f37-4fb8-9249-f152bcae792e",
   "metadata": {},
   "outputs": [],
   "source": []
  }
 ],
 "metadata": {
  "kernelspec": {
   "display_name": "Python (questionnaire-dashboard)",
   "language": "python",
   "name": "questionnaire-dashboard"
  },
  "language_info": {
   "codemirror_mode": {
    "name": "ipython",
    "version": 3
   },
   "file_extension": ".py",
   "mimetype": "text/x-python",
   "name": "python",
   "nbconvert_exporter": "python",
   "pygments_lexer": "ipython3",
   "version": "3.10.18"
  }
 },
 "nbformat": 4,
 "nbformat_minor": 5
}
