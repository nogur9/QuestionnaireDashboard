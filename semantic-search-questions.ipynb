{
 "cells": [
  {
   "cell_type": "code",
   "execution_count": 2,
   "id": "3acc52d5-647b-4c22-b3e9-94c4b11c3d80",
   "metadata": {},
   "outputs": [
    {
     "name": "stderr",
     "output_type": "stream",
     "text": [
      "C:\\Users\\USER\\anaconda3\\envs\\questionnaire-dashboard\\lib\\site-packages\\tqdm\\auto.py:21: TqdmWarning: IProgress not found. Please update jupyter and ipywidgets. See https://ipywidgets.readthedocs.io/en/stable/user_install.html\n",
      "  from .autonotebook import tqdm as notebook_tqdm\n"
     ]
    }
   ],
   "source": [
    "from source.single_question.questions_loader import QuestionLoader\n",
    "import pandas as pd\n",
    "from sentence_transformers import SentenceTransformer\n",
    "from sklearn.metrics.pairwise import cosine_similarity"
   ]
  },
  {
   "cell_type": "code",
   "execution_count": 3,
   "id": "3ab1e02a-d310-43d6-b314-dd4df72c773e",
   "metadata": {},
   "outputs": [],
   "source": [
    "questions = QuestionLoader().load_questions()\n",
    "\n",
    "def get_q_text(q):\n",
    "    if q.choices is not None:\n",
    "        text = f\"Question: {q.question_text}\\nMultiple Choices:\\n\"        \n",
    "        for k, v in q.choices.items():\n",
    "            text += f\"Choice {k} = {v}\\n\"\n",
    "        return text\n",
    "    elif q.ancestor is not None:\n",
    "        return f\"Question: {q.ancestor}\\n Answer: {q.question_text}\"\n",
    "    else:\n",
    "        return q.question_text\n",
    "        \n",
    "text = [get_q_text(q) for q in questions.questions]\n",
    "q_objs = [q for q in questions.questions]"
   ]
  },
  {
   "cell_type": "code",
   "execution_count": 4,
   "id": "3504d314-43a5-40fa-949d-c5abb2f95d17",
   "metadata": {},
   "outputs": [
    {
     "name": "stderr",
     "output_type": "stream",
     "text": [
      "C:\\Users\\USER\\anaconda3\\envs\\questionnaire-dashboard\\lib\\site-packages\\torch\\nn\\modules\\module.py:1762: FutureWarning: `encoder_attention_mask` is deprecated and will be removed in version 4.55.0 for `BertSdpaSelfAttention.forward`.\n",
      "  return forward_call(*args, **kwargs)\n"
     ]
    }
   ],
   "source": [
    "\n",
    "# Step 1: Embed all descriptions\n",
    "model = SentenceTransformer(\"sentence-transformers/paraphrase-multilingual-MiniLM-L12-v2\") # Fast & good for short texts\n",
    "desc_embeddings = model.encode(text, convert_to_tensor=True)\n"
   ]
  },
  {
   "cell_type": "code",
   "execution_count": 5,
   "id": "5af5dd15-50af-42e5-9423-ee01c7635eae",
   "metadata": {},
   "outputs": [],
   "source": [
    "\n",
    "# Step 2: Define search function\n",
    "def search_questionnaires(query, desc_embeddings, model, top_k=5):\n",
    "    query_embedding = model.encode(query, convert_to_tensor=True)\n",
    "    similarities = cosine_similarity([query_embedding], desc_embeddings)[0]\n",
    "    top_indices = similarities.argsort()[-top_k:][::-1]\n",
    "    # return similarities, df.iloc[top_indices][['Abbreviated Name', desc_col]]\n",
    "    return top_indices\n"
   ]
  },
  {
   "cell_type": "code",
   "execution_count": 15,
   "id": "7fec70bf-05ce-42e3-8bb7-1e23622f3770",
   "metadata": {},
   "outputs": [],
   "source": [
    "query = \"sexual trauma\"\n",
    "top_k = 10\n",
    "exclusion_questionnaires = [\"suicide_form_clin\", \"opening\", \"mini_kid_sum_stu\", \"mini_kid_sum_clin\"]\n",
    "\n",
    "def exclude(exclusion_questionnaires, q_objs, desc_embeddings):\n",
    "    clean_q_objs, clean_desc_embeddings = [], []\n",
    "    for q, emb in zip(q_objs, desc_embeddings):\n",
    "        if q.questionnaire_name not in exclusion_questionnaires:\n",
    "            clean_q_objs.append(q)\n",
    "            clean_desc_embeddings.append(emb)\n",
    "\n",
    "    return clean_q_objs, clean_desc_embeddings"
   ]
  },
  {
   "cell_type": "code",
   "execution_count": 16,
   "id": "f6c7d5a4-8b8a-4478-9c2d-0a6e86219166",
   "metadata": {},
   "outputs": [],
   "source": [
    "clean_q_objs, clean_desc_embeddings = exclude(exclusion_questionnaires, q_objs, desc_embeddings)"
   ]
  },
  {
   "cell_type": "code",
   "execution_count": 17,
   "id": "d1337101-5abd-47d1-8675-e7c62adb8f97",
   "metadata": {},
   "outputs": [
    {
     "name": "stdout",
     "output_type": "stream",
     "text": [
      "[ 658 1025  635 1002  991  624  370 1547 1551 1549]\n"
     ]
    },
    {
     "name": "stderr",
     "output_type": "stream",
     "text": [
      "C:\\Users\\USER\\anaconda3\\envs\\questionnaire-dashboard\\lib\\site-packages\\torch\\nn\\modules\\module.py:1762: FutureWarning: `encoder_attention_mask` is deprecated and will be removed in version 4.55.0 for `BertSdpaSelfAttention.forward`.\n",
      "  return forward_call(*args, **kwargs)\n"
     ]
    }
   ],
   "source": [
    "top_indices = search_questionnaires(query, clean_desc_embeddings, model, top_k)\n",
    "print(top_indices)"
   ]
  },
  {
   "cell_type": "code",
   "execution_count": 18,
   "id": "469909a0-dcda-47c7-8852-93e6a42dabed",
   "metadata": {},
   "outputs": [
    {
     "name": "stdout",
     "output_type": "stream",
     "text": [
      "top 0\n",
      "Text: \n",
      "סיבת הטיפול\n",
      "Questionnaire:\topening_ps_m\n",
      "Variable Name:\tps_demograph_11_1_m\n",
      "\n",
      "\n",
      "top 2\n",
      "Text: \n",
      "תקריות אחרות כלפי אחרים (אנא תארו)\n",
      "Questionnaire:\tmoas_m\n",
      "Variable Name:\tmoas_10_m\n",
      "\n",
      "\n",
      "top 4\n",
      "Text: \n",
      "נא פרט/י מה זה היה\n",
      "Questionnaire:\tcts_f\n",
      "Variable Name:\tcts_p_4_1_f\n",
      "\n",
      "\n",
      "top 7\n",
      "Text: \n",
      "Details\n",
      "Questionnaire:\tscreening_form\n",
      "Variable Name:\tscreen_35_1\n",
      "\n",
      "\n"
     ]
    }
   ],
   "source": [
    "q_texts = []\n",
    "for i in range(top_k):\n",
    "    q = clean_q_objs[top_indices[i]]\n",
    "    if q.question_text not in q_texts:\n",
    "        print(f\"top {i}\")\n",
    "        print(f\"Text: \\n{q.question_text}\")\n",
    "        print(f\"Questionnaire:\\t{q.questionnaire_name}\")\n",
    "        if q.choices is not None:\n",
    "            print(f\"Choices:\\n{q.choices}\\n\")\n",
    "        print(f\"Variable Name:\\t{q.variable_name}\\n\\n\")\n",
    "        q_texts.append(q.question_text)\n",
    "\n"
   ]
  },
  {
   "cell_type": "code",
   "execution_count": null,
   "id": "745e999f-cb5c-41a6-a936-8b781919691c",
   "metadata": {},
   "outputs": [],
   "source": []
  }
 ],
 "metadata": {
  "kernelspec": {
   "display_name": "Python (questionnaire-dashboard)",
   "language": "python",
   "name": "questionnaire-dashboard"
  },
  "language_info": {
   "codemirror_mode": {
    "name": "ipython",
    "version": 3
   },
   "file_extension": ".py",
   "mimetype": "text/x-python",
   "name": "python",
   "nbconvert_exporter": "python",
   "pygments_lexer": "ipython3",
   "version": "3.10.18"
  }
 },
 "nbformat": 4,
 "nbformat_minor": 5
}
