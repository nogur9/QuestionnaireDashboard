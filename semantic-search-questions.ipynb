{
 "cells": [
  {
   "cell_type": "code",
   "execution_count": 1,
   "id": "3acc52d5-647b-4c22-b3e9-94c4b11c3d80",
   "metadata": {},
   "outputs": [
    {
     "name": "stderr",
     "output_type": "stream",
     "text": [
      "C:\\Users\\USER\\anaconda3\\envs\\questionnaire-dashboard\\lib\\site-packages\\tqdm\\auto.py:21: TqdmWarning: IProgress not found. Please update jupyter and ipywidgets. See https://ipywidgets.readthedocs.io/en/stable/user_install.html\n",
      "  from .autonotebook import tqdm as notebook_tqdm\n"
     ]
    }
   ],
   "source": [
    "from source.single_question.questions_loader import QuestionLoader\n",
    "import pandas as pd\n",
    "from sentence_transformers import SentenceTransformer\n",
    "from sklearn.metrics.pairwise import cosine_similarity"
   ]
  },
  {
   "cell_type": "code",
   "execution_count": 2,
   "id": "3ab1e02a-d310-43d6-b314-dd4df72c773e",
   "metadata": {},
   "outputs": [],
   "source": [
    "questions = QuestionLoader().load_questions()\n",
    "text = [q.question_text for q in questions.questions]\n",
    "q_obj = [q for q in questions.questions]"
   ]
  },
  {
   "cell_type": "code",
   "execution_count": 3,
   "id": "3504d314-43a5-40fa-949d-c5abb2f95d17",
   "metadata": {},
   "outputs": [
    {
     "name": "stderr",
     "output_type": "stream",
     "text": [
      "C:\\Users\\USER\\anaconda3\\envs\\questionnaire-dashboard\\lib\\site-packages\\torch\\nn\\modules\\module.py:1762: FutureWarning: `encoder_attention_mask` is deprecated and will be removed in version 4.55.0 for `BertSdpaSelfAttention.forward`.\n",
      "  return forward_call(*args, **kwargs)\n"
     ]
    }
   ],
   "source": [
    "\n",
    "# Step 1: Embed all descriptions\n",
    "model = SentenceTransformer(\"sentence-transformers/paraphrase-multilingual-MiniLM-L12-v2\") # Fast & good for short texts\n",
    "desc_embeddings = model.encode(text, convert_to_tensor=True)\n"
   ]
  },
  {
   "cell_type": "code",
   "execution_count": 4,
   "id": "5af5dd15-50af-42e5-9423-ee01c7635eae",
   "metadata": {},
   "outputs": [],
   "source": [
    "\n",
    "# Step 2: Define search function\n",
    "def search_questionnaires(query, desc_embeddings, model, top_k=5):\n",
    "    query_embedding = model.encode(query, convert_to_tensor=True)\n",
    "    similarities = cosine_similarity([query_embedding], desc_embeddings)[0]\n",
    "    top_indices = similarities.argsort()[-top_k:][::-1]\n",
    "    # return similarities, df.iloc[top_indices][['Abbreviated Name', desc_col]]\n",
    "    return top_indices\n"
   ]
  },
  {
   "cell_type": "code",
   "execution_count": 13,
   "id": "7fec70bf-05ce-42e3-8bb7-1e23622f3770",
   "metadata": {},
   "outputs": [
    {
     "name": "stdout",
     "output_type": "stream",
     "text": [
      "[  11 1285 1289 1689 1846]\n"
     ]
    },
    {
     "name": "stderr",
     "output_type": "stream",
     "text": [
      "C:\\Users\\USER\\anaconda3\\envs\\questionnaire-dashboard\\lib\\site-packages\\torch\\nn\\modules\\module.py:1762: FutureWarning: `encoder_attention_mask` is deprecated and will be removed in version 4.55.0 for `BertSdpaSelfAttention.forward`.\n",
      "  return forward_call(*args, **kwargs)\n"
     ]
    }
   ],
   "source": [
    "query = \"depression\"\n",
    "# Example usage\n",
    "top_indices = search_questionnaires(query, desc_embeddings, model)\n",
    "print(top_indices)"
   ]
  },
  {
   "cell_type": "code",
   "execution_count": 14,
   "id": "14748946-461b-4468-b25d-e44e4ee2d91f",
   "metadata": {},
   "outputs": [],
   "source": [
    "q_obj = [q for q in questions.questions]"
   ]
  },
  {
   "cell_type": "code",
   "execution_count": 15,
   "id": "469909a0-dcda-47c7-8852-93e6a42dabed",
   "metadata": {},
   "outputs": [
    {
     "name": "stdout",
     "output_type": "stream",
     "text": [
      "top 0\n",
      "Text: \n",
      "אבחנה פסיכיאטרית - דיכאון\n",
      "Questionnaire:\topening\n",
      "Variable Name:\tdiagnosis___1\n",
      "\n",
      "\n",
      "top 1\n",
      "Text: \n",
      "תחושות דיכאוניות\n",
      "Questionnaire:\tcdrsr_clin\n",
      "Choices:\n",
      "{0: '0- אין מספיק מידע כדי להסיק על הדירוג', 1: '1- מידי פעם חש עצבות, אך התחושה נעלמת במהירות', 2: '2', 3: '3- מתאר אירועים ממושכים של עצבות שנראים מוגזמים עבור הארועים המתוארים', 4: '4', 5: '5- חש עצוב רוב הזמן ללא גורם עיקרי מקדים', 6: '6', 7: '7- חש עצוב כל הזמן. העצב מאופיין על ידי תחושה של כאב נפשי (לדוגמא: \"אני לא יכול לסבול זאת\")'}\n",
      "\n",
      "Variable Name:\tcdrs_depressed_feelings_clin\n",
      "\n",
      "\n",
      "top 2\n",
      "Text: \n",
      "אפקט דיכאוני\n",
      "Questionnaire:\tcdrsr_clin\n",
      "Choices:\n",
      "{0: '0- אין מספיק מידע כדי להסיק על הדירוג', 1: '1- הבעות הפנים והקול במהלך הראיון נראים חיוניים. אין סימן לאפקט דיכאוני', 2: '2- דיכוי קל של האפקט. איבוד מסוים של ספונטניות', 3: '3- אובדן כולל של הספונטניות. נראה דיספורי במהלך חלקים מהראיון (למשל, פנים זועפות, מבט מושפל, חוסר חיות בפנים). עם זאת, מסוגל לחייך ואינו נמנע מקשר עין כשמשוחח על תחומים לא מאיימים', 4: '4', 5: '5- הגבלה מתונה של האפקט במהלך רוב הראיון. ישנם פרקי זמן ארוכים ותכופים בהם נראה בבירור דיספורי. עושה רושם כי דבר לא מעורר אותו', 6: '6', 7: '7- הגבלה חמורה של האפקט. נראה בבירור עצוב ומכונס בעצמו. אינטראקציה מילולית מינימלית במהלך הראיון. בוכה או עשוי להראות דומע'}\n",
      "\n",
      "Variable Name:\tcdrs_depressed_facial_affect_clin\n",
      "\n",
      "\n",
      "top 3\n",
      "Text: \n",
      "הפרעת דיכאון רבא (מאג'ורית) - נוכחית (שבועיים אחרונים)\n",
      "Questionnaire:\tmini_kid_sum_clin\n",
      "Variable Name:\tdepres_clin___1\n",
      "\n",
      "\n"
     ]
    }
   ],
   "source": [
    "q_texts = []\n",
    "for i in range(5):\n",
    "    q = q_obj[top_indices[i]]\n",
    "    if q.question_text not in q_texts:\n",
    "        print(f\"top {i}\")\n",
    "        print(f\"Text: \\n{q.question_text}\")\n",
    "        print(f\"Questionnaire:\\t{q.questionnaire_name}\")\n",
    "        if q.choices is not None:\n",
    "            print(f\"Choices:\\n{q.choices}\\n\")\n",
    "        print(f\"Variable Name:\\t{q.variable_name}\\n\\n\")\n",
    "        q_texts.append(q.question_text)\n",
    "\n"
   ]
  },
  {
   "cell_type": "code",
   "execution_count": null,
   "id": "745e999f-cb5c-41a6-a936-8b781919691c",
   "metadata": {},
   "outputs": [],
   "source": []
  }
 ],
 "metadata": {
  "kernelspec": {
   "display_name": "Python (questionnaire-dashboard)",
   "language": "python",
   "name": "questionnaire-dashboard"
  },
  "language_info": {
   "codemirror_mode": {
    "name": "ipython",
    "version": 3
   },
   "file_extension": ".py",
   "mimetype": "text/x-python",
   "name": "python",
   "nbconvert_exporter": "python",
   "pygments_lexer": "ipython3",
   "version": "3.10.18"
  }
 },
 "nbformat": 4,
 "nbformat_minor": 5
}
